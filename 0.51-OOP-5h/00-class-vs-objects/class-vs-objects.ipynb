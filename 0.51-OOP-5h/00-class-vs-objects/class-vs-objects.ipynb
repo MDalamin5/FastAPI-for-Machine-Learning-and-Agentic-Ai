{
 "cells": [
  {
   "cell_type": "markdown",
   "id": "801000cc",
   "metadata": {},
   "source": [
    "## **Banking Applications**"
   ]
  },
  {
   "cell_type": "code",
   "execution_count": 1,
   "id": "8b50c626",
   "metadata": {},
   "outputs": [],
   "source": [
    "class AtmBank:\n",
    "    def __init__(self, pin_number: str, balance: float):\n",
    "        self.pin_number = pin_number\n",
    "        self.balance = balance\n",
    "\n",
    "    def add_money(self, amount: float):\n",
    "        self.balance += amount\n",
    "        print(f\"{amount} added successfully.\")"
   ]
  },
  {
   "cell_type": "code",
   "execution_count": 1,
   "id": "39d3ad28",
   "metadata": {},
   "outputs": [],
   "source": [
    "class Person:\n",
    "    def __init__(self, name, country):\n",
    "        self.name = name\n",
    "        self.country = country\n",
    "\n",
    "        self.getting()\n",
    "\n",
    "\n",
    "    def getting(self):\n",
    "        print(f\"Assalamualikum {self.name}...\")"
   ]
  },
  {
   "cell_type": "code",
   "execution_count": 2,
   "id": "b592da42",
   "metadata": {},
   "outputs": [
    {
     "name": "stdout",
     "output_type": "stream",
     "text": [
      "Assalamualikum Md Al Amin...\n"
     ]
    }
   ],
   "source": [
    "p = Person(\"Md Al Amin\", \"BD\")"
   ]
  },
  {
   "cell_type": "code",
   "execution_count": 3,
   "id": "cd1d9f50",
   "metadata": {},
   "outputs": [
    {
     "data": {
      "text/plain": [
       "'Md Al Amin'"
      ]
     },
     "execution_count": 3,
     "metadata": {},
     "output_type": "execute_result"
    }
   ],
   "source": [
    "p.name"
   ]
  },
  {
   "cell_type": "code",
   "execution_count": 4,
   "id": "82eaad81",
   "metadata": {},
   "outputs": [],
   "source": [
    "p.gender = \"Male\""
   ]
  },
  {
   "cell_type": "code",
   "execution_count": 5,
   "id": "5c274044",
   "metadata": {},
   "outputs": [
    {
     "data": {
      "text/plain": [
       "'Male'"
      ]
     },
     "execution_count": 5,
     "metadata": {},
     "output_type": "execute_result"
    }
   ],
   "source": [
    "p.gender"
   ]
  },
  {
   "cell_type": "code",
   "execution_count": null,
   "id": "af86758b",
   "metadata": {},
   "outputs": [],
   "source": []
  }
 ],
 "metadata": {
  "kernelspec": {
   "display_name": "FastAPI-for-Machine-Learning-and-Agentic-Ai",
   "language": "python",
   "name": "python3"
  },
  "language_info": {
   "codemirror_mode": {
    "name": "ipython",
    "version": 3
   },
   "file_extension": ".py",
   "mimetype": "text/x-python",
   "name": "python",
   "nbconvert_exporter": "python",
   "pygments_lexer": "ipython3",
   "version": "3.12.3"
  }
 },
 "nbformat": 4,
 "nbformat_minor": 5
}
