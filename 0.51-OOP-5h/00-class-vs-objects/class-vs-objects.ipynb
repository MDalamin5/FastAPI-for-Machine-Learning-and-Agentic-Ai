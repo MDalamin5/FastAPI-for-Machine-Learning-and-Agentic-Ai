{
 "cells": [
  {
   "cell_type": "markdown",
   "id": "801000cc",
   "metadata": {},
   "source": [
    "## **Banking Applications**"
   ]
  },
  {
   "cell_type": "code",
   "execution_count": 1,
   "id": "8b50c626",
   "metadata": {},
   "outputs": [],
   "source": [
    "class AtmBank:\n",
    "    def __init__(self, pin_number: str, balance: float):\n",
    "        self.pin_number = pin_number\n",
    "        self.balance = balance\n",
    "\n",
    "    def add_money(self, amount: float):\n",
    "        self.balance += amount\n",
    "        print(f\"{amount} added successfully.\")"
   ]
  },
  {
   "cell_type": "code",
   "execution_count": 1,
   "id": "39d3ad28",
   "metadata": {},
   "outputs": [],
   "source": [
    "class Person:\n",
    "    def __init__(self, name, country):\n",
    "        self.name = name\n",
    "        self.country = country\n",
    "\n",
    "        self.getting()\n",
    "\n",
    "\n",
    "    def getting(self):\n",
    "        print(f\"Assalamualikum {self.name}...\")"
   ]
  },
  {
   "cell_type": "code",
   "execution_count": 2,
   "id": "b592da42",
   "metadata": {},
   "outputs": [
    {
     "name": "stdout",
     "output_type": "stream",
     "text": [
      "Assalamualikum Md Al Amin...\n"
     ]
    }
   ],
   "source": [
    "p = Person(\"Md Al Amin\", \"BD\")"
   ]
  },
  {
   "cell_type": "code",
   "execution_count": 3,
   "id": "cd1d9f50",
   "metadata": {},
   "outputs": [
    {
     "data": {
      "text/plain": [
       "'Md Al Amin'"
      ]
     },
     "execution_count": 3,
     "metadata": {},
     "output_type": "execute_result"
    }
   ],
   "source": [
    "p.name"
   ]
  },
  {
   "cell_type": "code",
   "execution_count": 4,
   "id": "82eaad81",
   "metadata": {},
   "outputs": [],
   "source": [
    "p.gender = \"Male\""
   ]
  },
  {
   "cell_type": "code",
   "execution_count": 5,
   "id": "5c274044",
   "metadata": {},
   "outputs": [
    {
     "data": {
      "text/plain": [
       "'Male'"
      ]
     },
     "execution_count": 5,
     "metadata": {},
     "output_type": "execute_result"
    }
   ],
   "source": [
    "p.gender"
   ]
  },
  {
   "cell_type": "markdown",
   "id": "3358a356",
   "metadata": {},
   "source": [
    "## **Reference Variable**"
   ]
  },
  {
   "cell_type": "code",
   "execution_count": 6,
   "id": "af86758b",
   "metadata": {},
   "outputs": [
    {
     "data": {
      "text/plain": [
       "139314628292496"
      ]
     },
     "execution_count": 6,
     "metadata": {},
     "output_type": "execute_result"
    }
   ],
   "source": [
    "id(p)"
   ]
  },
  {
   "cell_type": "code",
   "execution_count": 7,
   "id": "d3a34287",
   "metadata": {},
   "outputs": [
    {
     "data": {
      "text/plain": [
       "139314628292496"
      ]
     },
     "execution_count": 7,
     "metadata": {},
     "output_type": "execute_result"
    }
   ],
   "source": [
    "q = p\n",
    "id(q)"
   ]
  },
  {
   "cell_type": "code",
   "execution_count": 8,
   "id": "791b6ff4",
   "metadata": {},
   "outputs": [
    {
     "name": "stdout",
     "output_type": "stream",
     "text": [
      "Md Al Amin\n",
      "Md Al Amin\n"
     ]
    }
   ],
   "source": [
    "print(p.name)\n",
    "print(q.name)"
   ]
  },
  {
   "cell_type": "code",
   "execution_count": 9,
   "id": "325c16b8",
   "metadata": {},
   "outputs": [
    {
     "name": "stdout",
     "output_type": "stream",
     "text": [
      "Al Amin\n",
      "Al Amin\n"
     ]
    }
   ],
   "source": [
    "q.name = \"Al Amin\"\n",
    "\n",
    "print(p.name)\n",
    "print(q.name)"
   ]
  },
  {
   "cell_type": "markdown",
   "id": "6517e6b6",
   "metadata": {},
   "source": [
    "### hare p and q both are point on the same locations so its call reference variable..."
   ]
  },
  {
   "cell_type": "markdown",
   "id": "f6e5db42",
   "metadata": {},
   "source": [
    "## Pass by reference"
   ]
  },
  {
   "cell_type": "code",
   "execution_count": 16,
   "id": "f14fcd49",
   "metadata": {},
   "outputs": [],
   "source": [
    "class Person:\n",
    "    def __init__(self, name, country):\n",
    "        self.name = name\n",
    "        self.country = country\n",
    "\n",
    "        \n",
    "\n",
    "\n",
    "def getting(obj):\n",
    "    print(f\"Assalamualikum {obj.name}...\")\n",
    "\n",
    "    up = Person(\"Mohimen\", \"USa\")\n",
    "    return up\n",
    "\n",
    "\n",
    "p1 = Person(\"Aminul\", \"UK\")"
   ]
  },
  {
   "cell_type": "code",
   "execution_count": 13,
   "id": "856dacb7",
   "metadata": {},
   "outputs": [
    {
     "name": "stdout",
     "output_type": "stream",
     "text": [
      "Assalamualikum Aminul...\n"
     ]
    }
   ],
   "source": [
    "getting(p1)"
   ]
  },
  {
   "cell_type": "code",
   "execution_count": 17,
   "id": "895e8827",
   "metadata": {},
   "outputs": [],
   "source": [
    "p2 = Person(\"Nirob\", \"Japan\")"
   ]
  },
  {
   "cell_type": "code",
   "execution_count": 18,
   "id": "dfa228c4",
   "metadata": {},
   "outputs": [
    {
     "name": "stdout",
     "output_type": "stream",
     "text": [
      "Assalamualikum Nirob...\n"
     ]
    },
    {
     "data": {
      "text/plain": [
       "'Mohimen'"
      ]
     },
     "execution_count": 18,
     "metadata": {},
     "output_type": "execute_result"
    }
   ],
   "source": [
    "result= getting(p2)\n",
    "result.name"
   ]
  },
  {
   "cell_type": "code",
   "execution_count": null,
   "id": "13801c47",
   "metadata": {},
   "outputs": [],
   "source": []
  }
 ],
 "metadata": {
  "kernelspec": {
   "display_name": "FastAPI-for-Machine-Learning-and-Agentic-Ai",
   "language": "python",
   "name": "python3"
  },
  "language_info": {
   "codemirror_mode": {
    "name": "ipython",
    "version": 3
   },
   "file_extension": ".py",
   "mimetype": "text/x-python",
   "name": "python",
   "nbconvert_exporter": "python",
   "pygments_lexer": "ipython3",
   "version": "3.12.3"
  }
 },
 "nbformat": 4,
 "nbformat_minor": 5
}
